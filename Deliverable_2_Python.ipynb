{
  "nbformat": 4,
  "nbformat_minor": 0,
  "metadata": {
    "colab": {
      "provenance": []
    },
    "kernelspec": {
      "name": "python3",
      "display_name": "Python 3"
    },
    "language_info": {
      "name": "python"
    }
  },
  "cells": [
    {
      "cell_type": "code",
      "execution_count": null,
      "metadata": {
        "id": "VdKpU3dzTa1m"
      },
      "outputs": [],
      "source": [
        "# Import the random package\n",
        "import random"
      ]
    },
    {
      "cell_type": "code",
      "source": [
        "# Initialize the list that will contain the random numbers\n",
        "ran_num = []\n",
        "\n",
        "# While loop to check user's input\n",
        "while(True):\n",
        "    # Prompt user to enter a number between 5 and 15\n",
        "    user_input = int(input(\"Enter a number between 5 and 15: \"))\n",
        "\n",
        "    # If statement to catch any numbers that aren't between 5 and 15\n",
        "    if (user_input >= 5 and user_input <= 15):\n",
        "\n",
        "      # For loop that loops through user's input\n",
        "      for i in range(user_input):\n",
        "        # Have the system choose random numbers between 10 and 50\n",
        "        num = random.randint(10,50)\n",
        "        ran_num.append(num)\n",
        "      # Output the list of numbers\n",
        "      print(\"The elements of the arrays are: \", str(ran_num))\n",
        "      # Sum up the numbers in the list and print them out\n",
        "      total_sum = sum(ran_num)\n",
        "      #Print the sum\n",
        "      print(\"The sum is: \", total_sum)\n",
        "      break\n",
        "\n",
        "    else:\n",
        "      # Send user back to input prompt to enter proper value\n",
        "      print(\"Please enter a number only between 5 and 15.\")\n",
        "      continue"
      ],
      "metadata": {
        "colab": {
          "base_uri": "https://localhost:8080/"
        },
        "id": "LgjAuJZcTc00",
        "outputId": "81c7ffae-9371-45de-d799-778b2994b206"
      },
      "execution_count": 4,
      "outputs": [
        {
          "output_type": "stream",
          "name": "stdout",
          "text": [
            "Enter a number between 5 and 15: 16\n",
            "Please enter a number only between 5 and 15.\n",
            "Enter a number between 5 and 15: 4\n",
            "Please enter a number only between 5 and 15.\n",
            "Enter a number between 5 and 15: 10\n",
            "The elements of the arrays are:  [44, 27, 30, 44, 42, 41, 32, 30, 15, 30]\n",
            "The sum is:  335\n"
          ]
        }
      ]
    }
  ]
}